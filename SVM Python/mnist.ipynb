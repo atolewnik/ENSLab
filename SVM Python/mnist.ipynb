{
  "nbformat": 4,
  "nbformat_minor": 0,
  "metadata": {
    "colab": {
      "provenance": []
    },
    "kernelspec": {
      "name": "python3",
      "display_name": "Python 3"
    },
    "language_info": {
      "name": "python"
    }
  },
  "cells": [
    {
      "cell_type": "markdown",
      "source": [
        "# This code walks through a Support Vector Machine exercise using the MNIST database. The MNIST database has 70,000 handwritten digits. The data set is useful for testing and developing classification and image recognition algorithms and saves developers from having to develop and preprocess their own data.\n",
        "\n",
        "http://yann.lecun.com/exdb/mnist/\n",
        "\n",
        "https://en.wikipedia.org/wiki/MNIST_database\n"
      ],
      "metadata": {
        "id": "hpeO1MabhFKq"
      }
    },
    {
      "cell_type": "code",
      "metadata": {
        "colab": {
          "base_uri": "https://localhost:8080/"
        },
        "id": "AqJJ-ztwuDJw",
        "outputId": "fab5acae-4fd1-48b0-bddd-69c4e604296c"
      },
      "source": [
        "print(\"ML Lab\")"
      ],
      "execution_count": null,
      "outputs": [
        {
          "output_type": "stream",
          "name": "stdout",
          "text": [
            "ML Lab\n"
          ]
        }
      ]
    },
    {
      "cell_type": "markdown",
      "source": [
        "\n",
        "# This section of the code imports necessary libraries for our SVM classification work and also for visualizing the data. This includes importing the mnist library, which is the source of our data.`"
      ],
      "metadata": {
        "id": "-MtgnG-ghFDI"
      }
    },
    {
      "cell_type": "code",
      "metadata": {
        "id": "1V5_wH3IufE5"
      },
      "source": [
        "from keras.datasets import mnist #importing keras library for importing mnist dataset ref:https://keras.io/api/datasets/\n",
        "import numpy as np # numpy library is imported for performing array operations ref:https://numpy.org/doc/stable/user/index.html#user\n",
        "import math # imported to perform mathametical operations\n",
        "import matplotlib.pyplot as plt # imported to perform plot the data ref:https://matplotlib.org/3.5.1/tutorials/introductory/pyplot.html\n",
        "from sklearn import svm, metrics # importing support vector machines(svm), Ref: https://scikit-learn.org/stable/modules/generated/sklearn.svm.SVC.html\n",
        "import itertools #"
      ],
      "execution_count": null,
      "outputs": []
    },
    {
      "cell_type": "markdown",
      "source": [
        "# The next code snippet is used to load the training and test data. MNIST data is split into a training set of 60,000 data points and a test set of 10,000 data points."
      ],
      "metadata": {
        "id": "EqJwvs8zh3a4"
      }
    },
    {
      "cell_type": "code",
      "metadata": {
        "colab": {
          "base_uri": "https://localhost:8080/"
        },
        "id": "ZbFU3tLIuidx",
        "outputId": "fe5d3d84-a83f-4191-cffe-1015a1d1cd13"
      },
      "source": [
        "(X_train, y_train), (X_test, y_test) = mnist.load_data() #segregating train labels & data and test labels & data\n",
        "train_images_data = X_train #mnist.train_images\n",
        "print(\"Importing mnist images and labels\")"
      ],
      "execution_count": null,
      "outputs": [
        {
          "output_type": "stream",
          "name": "stdout",
          "text": [
            "Downloading data from https://storage.googleapis.com/tensorflow/tf-keras-datasets/mnist.npz\n",
            "11490434/11490434 [==============================] - 0s 0us/step\n",
            "Importing mnist images and labels\n"
          ]
        }
      ]
    },
    {
      "cell_type": "markdown",
      "source": [
        "# This snippet is checking to see that their are images and associated labels."
      ],
      "metadata": {
        "id": "dO0_YHTE4iUC"
      }
    },
    {
      "cell_type": "code",
      "metadata": {
        "colab": {
          "base_uri": "https://localhost:8080/"
        },
        "id": "DCQi5NdavKLy",
        "outputId": "b29c00f0-86d8-468e-9ada-9d96bdcdfc63"
      },
      "source": [
        "img = X_test #mnist.test_images\n",
        "test_labels = y_test #mnist.test_labels\n",
        "print(\"Testing images and labels\")"
      ],
      "execution_count": null,
      "outputs": [
        {
          "output_type": "stream",
          "name": "stdout",
          "text": [
            "Testing images and labels\n"
          ]
        }
      ]
    },
    {
      "cell_type": "markdown",
      "source": [
        "# The next snippet is reshaping the data to account for the 28 x 28 sizing of the handwritten digits"
      ],
      "metadata": {
        "id": "CX1h6PoFJwWg"
      }
    },
    {
      "cell_type": "code",
      "metadata": {
        "id": "lCwfDL8JwnYt"
      },
      "source": [
        "#Reshaping the data according to our classifier requirements\n",
        "train_images = np.reshape(train_images_data, (60000, 28*28)) #reshaping the train_images\n",
        "train_labels = y_train #train_lables\n",
        "img = np.reshape(X_test,(10000, 28*28)) #reshaping the test_images"
      ],
      "execution_count": null,
      "outputs": []
    },
    {
      "cell_type": "markdown",
      "source": [
        "# Our classifier uses RBF kernel to move our data into 3D space.\n",
        "\n",
        "Ref: https://towardsdatascience.com/radial-basis-function-rbf-kernel-the-go-to-kernel-acf0d22c798a\n",
        "\n",
        "# This next snippet of code is the portion that executes training of the SVM classifier. This is where you can manipulate hyperparameters of C and gamma to affect the performance of the classifier.\n",
        "\n",
        "# Note, the model is currently only considering four of the possible ten (0-9) digits."
      ],
      "metadata": {
        "id": "YEtQZjXn0Vm0"
      }
    },
    {
      "cell_type": "code",
      "metadata": {
        "id": "_54xjroTvHyc"
      },
      "source": [
        "idx = (train_labels == 2)|(train_labels == 4 )|(train_labels == 9)|(train_labels == 1 )\n",
        "X = train_images[idx]/255.0 #Normalizing the images for simpler classification\n",
        "Y = train_labels[idx]\n",
        "svc = svm.SVC(C=10 , gamma=0.5).fit(X, Y) #gamma value defines the margin length on both side of the line or polynomial curve Ref: "
      ],
      "execution_count": null,
      "outputs": []
    },
    {
      "cell_type": "markdown",
      "source": [
        "# The next snippet is running the test data through the trained classifier."
      ],
      "metadata": {
        "id": "41R7hVHy_sx9"
      }
    },
    {
      "cell_type": "code",
      "metadata": {
        "id": "HpKvYd_rzhZ4"
      },
      "source": [
        "idx = (test_labels == 2)|(test_labels == 4 )|(test_labels == 9)|(test_labels == 1)\n",
        "X_test = img[idx]/255.0 #Normalizing the image\n",
        "Y_test = test_labels[idx]\n",
        "y_pred = svc.predict(X_test) #Predicting the images to classify into multiple groups using the trained svm model"
      ],
      "execution_count": null,
      "outputs": []
    },
    {
      "cell_type": "markdown",
      "source": [
        "# The next snippet produces a Confusion Matrix, which is one way of assessing the performance of your SVM classifier\n",
        "\n",
        "Understanding Confusion Matrix: https://towardsdatascience.com/understanding-confusion-matrix-a9ad42dcfd62\n",
        "\n",
        "Ref for confusion matrix: https://scikit-learn.org/stable/modules/generated/sklearn.metrics.confusion_matrix.html\n"
      ],
      "metadata": {
        "id": "zTpRz2FJ3unn"
      }
    },
    {
      "cell_type": "code",
      "metadata": {
        "id": "YL-E0mTk1vZ6"
      },
      "source": [
        "# This function displays the results of the confusion matrix\n",
        "\n",
        "def plot_confusion_matrix(cm,classes,\n",
        "                          normalize=False,\n",
        "                          title='Confusion matrix',\n",
        "                          cmap=plt.cm.Blues):\n",
        "    if normalize:\n",
        "      cm = cm.astype('float')/cm.sum(axis=1)[:, np.newaxis]\n",
        "      print(\"Normalized confusion matrix\")\n",
        "    else:\n",
        "      print(\"Confusion matix, without normalization\")\n",
        "    print(cm)\n",
        "    plt.imshow(cm, interpolation= 'nearest', cmap=cmap)\n",
        "    plt.title(title)\n",
        "    plt.colorbar()\n",
        "    tick_marks = np.arange(len(classes))\n",
        "    plt.xticks(tick_marks, classes, rotation=45)\n",
        "    plt.yticks(tick_marks, classes)\n",
        "\n",
        "    fmt = '.2f' if normalize else 'd'\n",
        "    thresh = cm.max()/2\n",
        "    for i,j in itertools.product(range(cm.shape[0]), range(cm.shape[1])):\n",
        "        plt.text(j, i, format(cm[i, j], fmt),\n",
        "                 horizontalalignment='center',\n",
        "                 color='white' if cm[i,j] > thresh else \"black\")\n",
        "        plt.tight_layout()\n",
        "        plt.ylabel('True label')\n",
        "        plt.xlabel('predicted label')"
      ],
      "execution_count": null,
      "outputs": []
    },
    {
      "cell_type": "code",
      "metadata": {
        "colab": {
          "base_uri": "https://localhost:8080/",
          "height": 384
        },
        "id": "dnJWm_PF0_AA",
        "outputId": "7fea2204-629d-4240-ab28-871904f3e969"
      },
      "source": [
        "cm  = metrics.confusion_matrix(Y_test,y_pred) # we are analysing our classification model based on the actual labels and predicted lables of the testing images\n",
        "plot_confusion_matrix(cm, [1,2,4,9], normalize=False) # ploting confusion matrix"
      ],
      "execution_count": null,
      "outputs": [
        {
          "output_type": "stream",
          "name": "stdout",
          "text": [
            "Confusion matix, without normalization\n",
            "[[ 936  199    0    0]\n",
            " [   0 1032    0    0]\n",
            " [   0  932   49    1]\n",
            " [   0  666    0  343]]\n"
          ]
        },
        {
          "output_type": "display_data",
          "data": {
            "text/plain": [
              "<Figure size 432x288 with 2 Axes>"
            ],
            "image/png": "[encoded data removed]"
          },
          "metadata": {
            "needs_background": "light"
          }
        }
      ]
    },
    {
      "cell_type": "code",
      "source": [
        "cm"
      ],
      "metadata": {
        "colab": {
          "base_uri": "https://localhost:8080/"
        },
        "id": "M2tC_zAb2t7n",
        "outputId": "a37b097c-0140-4375-defc-591c123c808a"
      },
      "execution_count": null,
      "outputs": [
        {
          "output_type": "execute_result",
          "data": {
            "text/plain": [
              "array([[ 936,  199,    0,    0],\n",
              "       [   0, 1032,    0,    0],\n",
              "       [   0,  932,   49,    1],\n",
              "       [   0,  666,    0,  343]])"
            ]
          },
          "metadata": {},
          "execution_count": 11
        }
      ]
    },
    {
      "cell_type": "markdown",
      "source": [
        "# The next snippet allow you to see the images where prediction and truth are not aligned."
      ],
      "metadata": {
        "id": "YwKMu_EpA40D"
      }
    },
    {
      "cell_type": "code",
      "metadata": {
        "colab": {
          "base_uri": "https://localhost:8080/",
          "height": 52
        },
        "id": "Gri4-SKAmcv6",
        "outputId": "4dcf86f7-7d37-44bb-dd79-b284834693ee"
      },
      "source": [
        "idx = np.where((y_pred == 4) & (Y_test ==9))[0] # finding the images where character 4 is predicted instead of character 9\n",
        "fig = plt.figure(figsize=(5, 30))\n",
        "for i in range(len(idx)):\n",
        "    ax = fig.add_subplot(len(idx), 1, i+1)\n",
        "    imgplot = ax.imshow(np.reshape(X_test[idx[i],:],(28, 28)), cmap=plt.cm.get_cmap(\"Greys\"))\n",
        "    imgplot.set_interpolation(\"nearest\")\n",
        "plt.show()\n",
        "print(range(len(idx)))"
      ],
      "execution_count": null,
      "outputs": [
        {
          "output_type": "display_data",
          "data": {
            "text/plain": [
              "<Figure size 360x2160 with 0 Axes>"
            ]
          },
          "metadata": {}
        },
        {
          "output_type": "stream",
          "name": "stdout",
          "text": [
            "range(0, 0)\n"
          ]
        }
      ]
    }
  ]
}